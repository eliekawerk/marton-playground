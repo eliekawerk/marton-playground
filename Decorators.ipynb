{
 "cells": [
  {
   "cell_type": "code",
   "execution_count": 1,
   "id": "49ae8d14",
   "metadata": {
    "ExecuteTime": {
     "end_time": "2022-05-08T12:54:52.154752Z",
     "start_time": "2022-05-08T12:54:52.149751Z"
    }
   },
   "outputs": [],
   "source": [
    "from typing import *\n",
    "from collections import defaultdict"
   ]
  },
  {
   "cell_type": "code",
   "execution_count": 2,
   "id": "738af48a",
   "metadata": {
    "ExecuteTime": {
     "end_time": "2022-05-08T12:54:52.161753Z",
     "start_time": "2022-05-08T12:54:52.155752Z"
    }
   },
   "outputs": [
    {
     "name": "stdout",
     "output_type": "stream",
     "text": [
      "4\n",
      "9\n",
      "9\n",
      "Hello world!\n",
      "Hello world!\n",
      "Hello world!\n"
     ]
    }
   ],
   "source": [
    "# define a function on-the-fly\n",
    "pow2 = lambda x: x**2\n",
    "print(pow2(2))\n",
    "\n",
    "# take a function as a parameter\n",
    "def print_twice(func: Callable, arg: Any):\n",
    "    print(func(arg))\n",
    "    print(func(arg))\n",
    "print_twice(pow2, 3)\n",
    "\n",
    "# take a function as a parameter and return a new function\n",
    "def hello():\n",
    "    print('Hello world!')\n",
    "def loop(func: Callable, n: int):\n",
    "    for _ in range(n):\n",
    "        func()\n",
    "loop(hello, 3)"
   ]
  },
  {
   "cell_type": "code",
   "execution_count": 3,
   "id": "e0aed317",
   "metadata": {
    "ExecuteTime": {
     "end_time": "2022-05-08T12:54:55.166427Z",
     "start_time": "2022-05-08T12:54:52.161753Z"
    }
   },
   "outputs": [
    {
     "name": "stdout",
     "output_type": "stream",
     "text": [
      "---> Calling sleeper()\n",
      "Going to sleep...\n",
      "Done!\n",
      "---> Done sleeper(): 3.000 secs\n"
     ]
    }
   ],
   "source": [
    "# example without decorators\n",
    "\n",
    "from timeit import default_timer as timer\n",
    "from time import sleep\n",
    "\n",
    "def measure(func: Callable):\n",
    "    def inner(*args, **kwargs):\n",
    "        print(f'---> Calling {func.__name__}()')\n",
    "        start = timer()\n",
    "        func(*args, **kwargs)\n",
    "        elapsed_sec = timer() - start\n",
    "        print(f'---> Done {func.__name__}(): {elapsed_sec:.3f} secs')\n",
    "    return inner\n",
    "\n",
    "def sleeper(seconds: int = 0):\n",
    "    print('Going to sleep...')\n",
    "    sleep(seconds)\n",
    "    print('Done!')\n",
    "    \n",
    "sleeper = measure(sleeper)\n",
    "sleeper(3)"
   ]
  },
  {
   "cell_type": "code",
   "execution_count": 4,
   "id": "0e059c0d",
   "metadata": {
    "ExecuteTime": {
     "end_time": "2022-05-08T12:54:58.171100Z",
     "start_time": "2022-05-08T12:54:55.167427Z"
    }
   },
   "outputs": [
    {
     "name": "stdout",
     "output_type": "stream",
     "text": [
      "Going to sleep...\n",
      "Done!\n",
      "Elapsed: 3.000 secs\n"
     ]
    }
   ],
   "source": [
    "# simple decorator function without arguments: measure elapsed wallclock time\n",
    "\n",
    "from timeit import default_timer as timer\n",
    "from time import sleep\n",
    "\n",
    "def measure(func: Callable):\n",
    "    def inner(*args, **kwargs):\n",
    "        start = timer()\n",
    "        func(*args, **kwargs)\n",
    "        elapsed_sec = timer() - start\n",
    "        print(f'Elapsed: {elapsed_sec:.3f} secs')\n",
    "    return inner\n",
    "\n",
    "@measure\n",
    "def sleeper(seconds: int = 0):\n",
    "    print('Going to sleep...')\n",
    "    sleep(seconds)\n",
    "    print('Done!')\n",
    "\n",
    "sleeper(3)"
   ]
  },
  {
   "cell_type": "code",
   "execution_count": 5,
   "id": "53bb102c",
   "metadata": {
    "ExecuteTime": {
     "end_time": "2022-05-08T12:54:58.175101Z",
     "start_time": "2022-05-08T12:54:58.171100Z"
    }
   },
   "outputs": [
    {
     "name": "stdout",
     "output_type": "stream",
     "text": [
      "Hello world!\n",
      "Hello world!\n",
      "Hello world!\n"
     ]
    }
   ],
   "source": [
    "# parameterized decorator, requires 2 inner functions\n",
    "\n",
    "def loop(n: int = 1):\n",
    "    def decorator(func: Callable):\n",
    "        def inner(*args, **kwargs):\n",
    "            for _ in range(n):\n",
    "                func(*args, **kwargs)\n",
    "        return inner\n",
    "    return decorator\n",
    "\n",
    "@loop(n=3)\n",
    "def hello(name: str):\n",
    "    print(f'Hello {name}!')\n",
    "\n",
    "hello('world')"
   ]
  },
  {
   "cell_type": "code",
   "execution_count": 6,
   "id": "2e775c8c",
   "metadata": {
    "ExecuteTime": {
     "end_time": "2022-05-08T12:54:58.181102Z",
     "start_time": "2022-05-08T12:54:58.176101Z"
    }
   },
   "outputs": [
    {
     "name": "stdout",
     "output_type": "stream",
     "text": [
      "Executing Foo::__init__...\n",
      "Executing Foo::__init__...\n",
      "Executing Foo::increment...\n",
      "Executing Foo::__str__...\n",
      "This is a Foo object with i = 1\n",
      "Executing Foo::__str__...\n",
      "This is a Foo object with i = 4\n"
     ]
    }
   ],
   "source": [
    "# decorating a class with a function: trace\n",
    "\n",
    "def trace(cls: type):\n",
    "    def make_traced(cls: type, method_name: str, method: Callable):\n",
    "        def traced_method(*args, **kwargs):\n",
    "            print(f'Executing {cls.__name__}::{method_name}...')\n",
    "            return method(*args, **kwargs)\n",
    "        return traced_method    \n",
    "    for method_name, method in cls.__dict__.items():\n",
    "         if callable(method):\n",
    "            setattr(cls, method_name, make_traced(cls, method_name, method))\n",
    "    return cls\n",
    "\n",
    "@trace\n",
    "class Foo:\n",
    "    i: int = 0\n",
    "    def __init__(self, i: int = 0):\n",
    "        self.i = i\n",
    "    def increment(self):\n",
    "        self.i += 1\n",
    "    def __str__(self):\n",
    "        return f'This is a {self.__class__.__name__} object with i = {self.i}'\n",
    "\n",
    "f1 = Foo()\n",
    "f2 = Foo(4)\n",
    "f1.increment()\n",
    "print(f1)\n",
    "print(f2)"
   ]
  },
  {
   "cell_type": "code",
   "execution_count": 7,
   "id": "c768c07a",
   "metadata": {
    "ExecuteTime": {
     "end_time": "2022-05-08T12:54:58.187103Z",
     "start_time": "2022-05-08T12:54:58.182103Z"
    }
   },
   "outputs": [
    {
     "name": "stdout",
     "output_type": "stream",
     "text": [
      "This is a Foo object with i = 5\n",
      "This is a Foo object with i = 5\n",
      "This is a Bar object with i = 9\n",
      "True\n",
      "False\n"
     ]
    }
   ],
   "source": [
    "# decoarting a class with a function: singleton pattern\n",
    "\n",
    "def singleton(cls: type):\n",
    "    def __new__singleton(cls: type, *args, **kwargs):\n",
    "        if not hasattr(cls, '__singleton'):\n",
    "            cls.__singleton = object.__new__(cls)\n",
    "        return cls.__singleton\n",
    "    cls.__new__ = __new__singleton\n",
    "    return cls\n",
    "\n",
    "@singleton\n",
    "class Foo:\n",
    "    i: int = 0\n",
    "    def __init__(self, i: int = 0):\n",
    "        self.i = i\n",
    "    def increment(self):\n",
    "        self.i += 1\n",
    "    def __str__(self):\n",
    "        return f'This is a {self.__class__.__name__} object with i = {self.i}'\n",
    "\n",
    "@singleton\n",
    "class Bar:\n",
    "    i: int = 0\n",
    "    def __init__(self, i: int = 0):\n",
    "        self.i = i\n",
    "    def increment(self):\n",
    "        self.i += 1\n",
    "    def __str__(self):\n",
    "        return f'This is a {self.__class__.__name__} object with i = {self.i}'\n",
    "    \n",
    "f1 = Foo()\n",
    "f2 = Foo(4)\n",
    "f1.increment()\n",
    "b1 = Bar(9)\n",
    "print(f1)\n",
    "print(f2)\n",
    "print(b1)\n",
    "print(f1 is f2)\n",
    "print(f1 is b1)"
   ]
  },
  {
   "cell_type": "code",
   "execution_count": 8,
   "id": "136f787d",
   "metadata": {
    "ExecuteTime": {
     "end_time": "2022-05-08T12:54:58.193105Z",
     "start_time": "2022-05-08T12:54:58.188104Z"
    }
   },
   "outputs": [
    {
     "name": "stdout",
     "output_type": "stream",
     "text": [
      "This is a Foo object with i = 4\n",
      "This is a Foo object with i = 4\n"
     ]
    }
   ],
   "source": [
    "# making a class programmatically\n",
    "\n",
    "class Foo:\n",
    "    i: int = 0\n",
    "    def __init__(self, i: int = 0):\n",
    "        self.i = i\n",
    "    def increment(self):\n",
    "        self.i += 1\n",
    "    def __str__(self):\n",
    "        return f'This is a {self.__class__.__name__} object with i = {self.i}'\n",
    "\n",
    "f = Foo(3)\n",
    "f.increment()\n",
    "print(f)\n",
    "\n",
    "def make_class(name):\n",
    "    cls = type(name, (), {})\n",
    "    setattr(cls, 'i', 0)\n",
    "    def __init__(self, i): self.i = i\n",
    "    setattr(cls, '__init__', __init__)\n",
    "    def increment(self): self.i += 1\n",
    "    setattr(cls, 'increment', increment)\n",
    "    def __str__(self): return f'This is a {self.__class__.__name__} object with i = {self.i}'\n",
    "    setattr(cls, '__str__', __str__)\n",
    "    return cls\n",
    "\n",
    "Foo = make_class('Foo')\n",
    "f = Foo(3)\n",
    "f.increment()\n",
    "print(f)"
   ]
  },
  {
   "cell_type": "code",
   "execution_count": 9,
   "id": "b94a6adc",
   "metadata": {
    "ExecuteTime": {
     "end_time": "2022-05-08T12:54:58.200107Z",
     "start_time": "2022-05-08T12:54:58.194105Z"
    }
   },
   "outputs": [
    {
     "name": "stdout",
     "output_type": "stream",
     "text": [
      "This is a Foo object with i = 0\n",
      "This is a Foo object with i = 7\n",
      "This is a Bar object with i = 9\n",
      "Foo -> 2\n",
      "Bar -> 1\n"
     ]
    }
   ],
   "source": [
    "# decorating a class with a class: Count\n",
    "\n",
    "class Count:\n",
    "    instances: DefaultDict[str, int] = defaultdict(int) # we will use this as a class instance\n",
    "    def __call__(self, cls): # here cls is either Foo or Bar\n",
    "        class Counted(cls): # here cls is either Foo or Bar\n",
    "            def __new__(cls: type, *args, **kwargs): # here cls is Counted\n",
    "                Count.instances[cls.__bases__[0].__name__] += 1\n",
    "                return super().__new__(cls)\n",
    "        Counted.__name__ = cls.__name__\n",
    "        # without this ^ , self.__class__.__name__ would\n",
    "        # be 'Counted' in the __str__() functions below\n",
    "        return Counted\n",
    "\n",
    "@Count()\n",
    "class Foo:\n",
    "    i: int = 0\n",
    "    def __init__(self, i: int = 0):\n",
    "        self.i = i\n",
    "    def increment(self):\n",
    "        self.i += 1\n",
    "    def __str__(self):\n",
    "        return f'This is a {self.__class__.__name__} object with i = {self.i}'\n",
    "@Count()\n",
    "class Bar:\n",
    "    i: int = 0\n",
    "    def __init__(self, i: int = 0):\n",
    "        self.i = i\n",
    "    def increment(self):\n",
    "        self.i += 1\n",
    "    def __str__(self):\n",
    "        return f'This is a {self.__class__.__name__} object with i = {self.i}'\n",
    "\n",
    "f1 = Foo()\n",
    "f2 = Foo(6)\n",
    "f2.increment()\n",
    "b1 = Bar(9)\n",
    "print(f1)\n",
    "print(f2)\n",
    "print(b1)\n",
    "for class_name, num_instances in Count.instances.items():\n",
    "    print(f'{class_name} -> {num_instances}')"
   ]
  },
  {
   "cell_type": "code",
   "execution_count": 10,
   "id": "24355c84",
   "metadata": {
    "ExecuteTime": {
     "end_time": "2022-05-08T12:54:58.206108Z",
     "start_time": "2022-05-08T12:54:58.201107Z"
    }
   },
   "outputs": [
    {
     "name": "stdout",
     "output_type": "stream",
     "text": [
      "Response: Hello to my server!\n",
      "Response: Version 0.1\n",
      "Response: 404 (path was does-not-exist)\n"
     ]
    }
   ],
   "source": [
    "# building an application object by decorating functions (like in Flask)\n",
    "\n",
    "class Router:\n",
    "    routes: dict[str, Callable] = {}\n",
    "    \n",
    "    def route(self, prefix: str):\n",
    "        def decorator(func: Callable):\n",
    "            self.routes[prefix] = func\n",
    "        return decorator\n",
    "\n",
    "    def default_handler(self, path):\n",
    "        return f'404 (path was {path})'\n",
    "    \n",
    "    def handle_request(self, path):\n",
    "        longest_match, handler_func = 0, None\n",
    "        for prefix, func in self.routes.items():\n",
    "            if path.startswith(prefix) and len(prefix) > longest_match:\n",
    "                longest_match, handler_func = len(prefix), func\n",
    "        if handler_func is None:\n",
    "            handler_func = self.default_handler\n",
    "        print(f'Response: {handler_func(path)}')\n",
    "\n",
    "app = Router()\n",
    "\n",
    "@app.route('/')\n",
    "def hello(_):\n",
    "    return 'Hello to my server!'\n",
    "\n",
    "@app.route('/version')\n",
    "def version(_):\n",
    "    return 'Version 0.1'\n",
    "\n",
    "app.handle_request('/')\n",
    "app.handle_request('/version')\n",
    "app.handle_request('does-not-exist')"
   ]
  }
 ],
 "metadata": {
  "kernelspec": {
   "display_name": "Python 3 (ipykernel)",
   "language": "python",
   "name": "python3"
  },
  "language_info": {
   "codemirror_mode": {
    "name": "ipython",
    "version": 3
   },
   "file_extension": ".py",
   "mimetype": "text/x-python",
   "name": "python",
   "nbconvert_exporter": "python",
   "pygments_lexer": "ipython3",
   "version": "3.9.7"
  }
 },
 "nbformat": 4,
 "nbformat_minor": 5
}
