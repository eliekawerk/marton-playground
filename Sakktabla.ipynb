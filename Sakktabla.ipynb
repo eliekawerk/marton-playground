{
 "cells": [
  {
   "cell_type": "code",
   "execution_count": 1,
   "metadata": {},
   "outputs": [],
   "source": [
    "# k = n = 1 a bal also sarka a tablanak\n",
    "\n",
    "# rekurziv megoldas, R1:\n",
    "def R1(k, n):\n",
    "    # k-adik sor, n-edik oszlop\n",
    "    if k % 2 == 0:\n",
    "        raise Exception('Paros sorszamu tablara nincs megoldas, hiszen csak kettesevel lehet felfele lepni!')\n",
    "    if k == 1 and n == 1:\n",
    "        return 1\n",
    "    elif k > 1 and n == 1: # baloldali oszlop, ide csak felfele lepesekkel lehet eljutni\n",
    "        return R1(k-2, n)\n",
    "    elif k == 1 and n > 1: # a legalso sor, ide csak jobbra lepesekkel lehet eljutni\n",
    "        return R1(k, n-1) # ezt rovidre lehetne zarni, hiszen R(1, n - 1) = 1, de hagyjuk vegigfutni a rekurziot\n",
    "    else:\n",
    "        return R1(k, n-1) + R1(k-2, n) # egyebkent ketfele keppen lehet ide eljutni;\n",
    "                                     # vagy ugy, hogy eljutunk a (k, n-1) mezore, es onnan jobbra lepunk,\n",
    "                                     # vagy eljutunk a (k-2, n) mezore, es onnan felfele ugrunk kettot"
   ]
  },
  {
   "cell_type": "code",
   "execution_count": 2,
   "metadata": {},
   "outputs": [
    {
     "data": {
      "text/plain": [
       "1"
      ]
     },
     "execution_count": 2,
     "metadata": {},
     "output_type": "execute_result"
    }
   ],
   "source": [
    "R1(1, 1)"
   ]
  },
  {
   "cell_type": "code",
   "execution_count": 3,
   "metadata": {
    "scrolled": true
   },
   "outputs": [
    {
     "data": {
      "text/plain": [
       "120"
      ]
     },
     "execution_count": 3,
     "metadata": {},
     "output_type": "execute_result"
    }
   ],
   "source": [
    "R1(7, 8)"
   ]
  },
  {
   "cell_type": "code",
   "execution_count": 4,
   "metadata": {},
   "outputs": [
    {
     "ename": "Exception",
     "evalue": "Paros sorszamu tablara nincs megoldas, hiszen csak kettesevel lehet felfele lepni!",
     "output_type": "error",
     "traceback": [
      "\u001b[1;31m---------------------------------------------------------------------------\u001b[0m",
      "\u001b[1;31mException\u001b[0m                                 Traceback (most recent call last)",
      "\u001b[1;32m<ipython-input-4-df97ab4d0fdd>\u001b[0m in \u001b[0;36m<module>\u001b[1;34m()\u001b[0m\n\u001b[1;32m----> 1\u001b[1;33m \u001b[0mR1\u001b[0m\u001b[1;33m(\u001b[0m\u001b[1;36m8\u001b[0m\u001b[1;33m,\u001b[0m \u001b[1;36m8\u001b[0m\u001b[1;33m)\u001b[0m\u001b[1;33m\u001b[0m\u001b[0m\n\u001b[0m",
      "\u001b[1;32m<ipython-input-1-ddf31e1cd945>\u001b[0m in \u001b[0;36mR1\u001b[1;34m(k, n)\u001b[0m\n\u001b[0;32m      5\u001b[0m     \u001b[1;31m# k-adik sor, n-edik oszlop\u001b[0m\u001b[1;33m\u001b[0m\u001b[1;33m\u001b[0m\u001b[0m\n\u001b[0;32m      6\u001b[0m     \u001b[1;32mif\u001b[0m \u001b[0mk\u001b[0m \u001b[1;33m%\u001b[0m \u001b[1;36m2\u001b[0m \u001b[1;33m==\u001b[0m \u001b[1;36m0\u001b[0m\u001b[1;33m:\u001b[0m\u001b[1;33m\u001b[0m\u001b[0m\n\u001b[1;32m----> 7\u001b[1;33m         \u001b[1;32mraise\u001b[0m \u001b[0mException\u001b[0m\u001b[1;33m(\u001b[0m\u001b[1;34m'Paros sorszamu tablara nincs megoldas, hiszen csak kettesevel lehet felfele lepni!'\u001b[0m\u001b[1;33m)\u001b[0m\u001b[1;33m\u001b[0m\u001b[0m\n\u001b[0m\u001b[0;32m      8\u001b[0m     \u001b[1;32mif\u001b[0m \u001b[0mk\u001b[0m \u001b[1;33m==\u001b[0m \u001b[1;36m1\u001b[0m \u001b[1;32mand\u001b[0m \u001b[0mn\u001b[0m \u001b[1;33m==\u001b[0m \u001b[1;36m1\u001b[0m\u001b[1;33m:\u001b[0m\u001b[1;33m\u001b[0m\u001b[0m\n\u001b[0;32m      9\u001b[0m         \u001b[1;32mreturn\u001b[0m \u001b[1;36m1\u001b[0m\u001b[1;33m\u001b[0m\u001b[0m\n",
      "\u001b[1;31mException\u001b[0m: Paros sorszamu tablara nincs megoldas, hiszen csak kettesevel lehet felfele lepni!"
     ]
    }
   ],
   "source": [
    "R1(8, 8)"
   ]
  },
  {
   "cell_type": "code",
   "execution_count": 5,
   "metadata": {},
   "outputs": [],
   "source": [
    "import numpy as np\n",
    "\n",
    "# dinamikus megoldas, R2\n",
    "def R2(k, n, kiir=False):\n",
    "    if k % 2 == 0:\n",
    "        raise Exception('Paros sorszamu tablara nincs megoldas, hiszen csak kettesevel lehet felfele lepni!')\n",
    "    # csinalunk egy 2 dimenzios tombot, ehhez a numpy konyvtarat hasznaljuk\n",
    "    # alapbol legyen minden 0, utana kitoltjuk az ertekeket\n",
    "    T = np.zeros((k, n), dtype=int)\n",
    "    # a bal also 1, onnan indulunk\n",
    "    T[0, 0] = 1\n",
    "    # kitoltjuk a bal-oldali oszlopot:\n",
    "    for i in range(2, k, 2):\n",
    "        T[i, 0] = T[i-2, 0]\n",
    "    # kitoltjuk a legalso sort:\n",
    "    for j in range(1, n, 1):\n",
    "        T[0, j] = T[0, j-1]\n",
    "    for i in range(2, k, 2):\n",
    "        for j in range(1, n, 1):\n",
    "            T[i, j] = T[i-2, j] + T[i, j-1]\n",
    "    # a visszateresi ertek:\n",
    "    # a numpy abrazolasban a (0, 0) bal fent van, a kiirashoz az y-tengely menten tukrozunk\n",
    "    T = np.flipud(T)\n",
    "    if kiir:\n",
    "        print(T)\n",
    "    return T[0, n-1]"
   ]
  },
  {
   "cell_type": "code",
   "execution_count": 6,
   "metadata": {},
   "outputs": [
    {
     "name": "stdout",
     "output_type": "stream",
     "text": [
      "[[1]]\n"
     ]
    },
    {
     "data": {
      "text/plain": [
       "1"
      ]
     },
     "execution_count": 6,
     "metadata": {},
     "output_type": "execute_result"
    }
   ],
   "source": [
    "R2(1, 1, kiir=True)"
   ]
  },
  {
   "cell_type": "code",
   "execution_count": 7,
   "metadata": {},
   "outputs": [
    {
     "name": "stdout",
     "output_type": "stream",
     "text": [
      "[[  1   4  10  20  35  56  84 120]\n",
      " [  0   0   0   0   0   0   0   0]\n",
      " [  1   3   6  10  15  21  28  36]\n",
      " [  0   0   0   0   0   0   0   0]\n",
      " [  1   2   3   4   5   6   7   8]\n",
      " [  0   0   0   0   0   0   0   0]\n",
      " [  1   1   1   1   1   1   1   1]]\n"
     ]
    },
    {
     "data": {
      "text/plain": [
       "120"
      ]
     },
     "execution_count": 7,
     "metadata": {},
     "output_type": "execute_result"
    }
   ],
   "source": [
    "R2(7, 8, kiir=True)"
   ]
  },
  {
   "cell_type": "code",
   "execution_count": 8,
   "metadata": {},
   "outputs": [
    {
     "ename": "Exception",
     "evalue": "Paros sorszamu tablara nincs megoldas, hiszen csak kettesevel lehet felfele lepni!",
     "output_type": "error",
     "traceback": [
      "\u001b[1;31m---------------------------------------------------------------------------\u001b[0m",
      "\u001b[1;31mException\u001b[0m                                 Traceback (most recent call last)",
      "\u001b[1;32m<ipython-input-8-916d545dff4c>\u001b[0m in \u001b[0;36m<module>\u001b[1;34m()\u001b[0m\n\u001b[1;32m----> 1\u001b[1;33m \u001b[0mR2\u001b[0m\u001b[1;33m(\u001b[0m\u001b[1;36m8\u001b[0m\u001b[1;33m,\u001b[0m \u001b[1;36m8\u001b[0m\u001b[1;33m)\u001b[0m\u001b[1;33m\u001b[0m\u001b[0m\n\u001b[0m",
      "\u001b[1;32m<ipython-input-5-908597b4d729>\u001b[0m in \u001b[0;36mR2\u001b[1;34m(k, n, kiir)\u001b[0m\n\u001b[0;32m      4\u001b[0m \u001b[1;32mdef\u001b[0m \u001b[0mR2\u001b[0m\u001b[1;33m(\u001b[0m\u001b[0mk\u001b[0m\u001b[1;33m,\u001b[0m \u001b[0mn\u001b[0m\u001b[1;33m,\u001b[0m \u001b[0mkiir\u001b[0m\u001b[1;33m=\u001b[0m\u001b[1;32mFalse\u001b[0m\u001b[1;33m)\u001b[0m\u001b[1;33m:\u001b[0m\u001b[1;33m\u001b[0m\u001b[0m\n\u001b[0;32m      5\u001b[0m     \u001b[1;32mif\u001b[0m \u001b[0mk\u001b[0m \u001b[1;33m%\u001b[0m \u001b[1;36m2\u001b[0m \u001b[1;33m==\u001b[0m \u001b[1;36m0\u001b[0m\u001b[1;33m:\u001b[0m\u001b[1;33m\u001b[0m\u001b[0m\n\u001b[1;32m----> 6\u001b[1;33m         \u001b[1;32mraise\u001b[0m \u001b[0mException\u001b[0m\u001b[1;33m(\u001b[0m\u001b[1;34m'Paros sorszamu tablara nincs megoldas, hiszen csak kettesevel lehet felfele lepni!'\u001b[0m\u001b[1;33m)\u001b[0m\u001b[1;33m\u001b[0m\u001b[0m\n\u001b[0m\u001b[0;32m      7\u001b[0m     \u001b[1;31m# csinalunk egy 2 dimenzios tombot, ehhez a numpy konyvtarat hasznaljuk\u001b[0m\u001b[1;33m\u001b[0m\u001b[1;33m\u001b[0m\u001b[0m\n\u001b[0;32m      8\u001b[0m     \u001b[1;31m# alapbol legyen minden 0, utana kitoltjuk az ertekeket\u001b[0m\u001b[1;33m\u001b[0m\u001b[1;33m\u001b[0m\u001b[0m\n",
      "\u001b[1;31mException\u001b[0m: Paros sorszamu tablara nincs megoldas, hiszen csak kettesevel lehet felfele lepni!"
     ]
    }
   ],
   "source": [
    "R2(8, 8)"
   ]
  },
  {
   "cell_type": "code",
   "execution_count": 9,
   "metadata": {},
   "outputs": [],
   "source": [
    "# a fenti dinamikus megoldasban, mint lathato, minden masodik sor csupa 0, ez pazarlo\n",
    "# trivialisan atfogalmazhato a feladat, hogy feleannyi sor van, viszont jobbra es felfele is csak 1-et ugorhatunk\n",
    "# ebben az esetben a dinamikus megoldas fele annyi tarhelyet foglal\n",
    "\n",
    "# dinamikus hatekony tarhely, R3\n",
    "# dinamikus megoldas, R2\n",
    "def R3(k, n, kiir=False):\n",
    "    if k % 2 == 0:\n",
    "        raise Exception('Paros sorszamu tablara nincs megoldas, hiszen csak kettesevel lehet felfele lepni!')\n",
    "    # csinalunk egy 2 dimenzios tombot, ehhez a numpy konyvtarat hasznaljuk\n",
    "    # alapbol legyen minden 0, utana kitoltjuk az ertekeket\n",
    "    k = int((k+1)/2)\n",
    "    T = np.zeros((k, n), dtype=int)\n",
    "    # a bal also 1, onnan indulunk\n",
    "    T[0, 0] = 1\n",
    "    # kitoltjuk a bal-oldali oszlopot:\n",
    "    for i in range(1, k):\n",
    "        T[i, 0] = T[i-1, 0]\n",
    "    # kitoltjuk a legalso sort:\n",
    "    for j in range(1, n):\n",
    "        T[0, j] = T[0, j-1]\n",
    "    for i in range(1, k):\n",
    "        for j in range(1, n):\n",
    "            T[i, j] = T[i-1, j] + T[i, j-1]\n",
    "    # a visszateresi ertek:\n",
    "    # a numpy abrazolasban a (0, 0) bal fent van, a kiirashoz az y-tengely menten tukrozunk\n",
    "    T = np.flipud(T)\n",
    "    if kiir:\n",
    "        print(T)\n",
    "    return T[0, n-1]"
   ]
  },
  {
   "cell_type": "code",
   "execution_count": 10,
   "metadata": {},
   "outputs": [
    {
     "name": "stdout",
     "output_type": "stream",
     "text": [
      "[[1]]\n"
     ]
    },
    {
     "data": {
      "text/plain": [
       "1"
      ]
     },
     "execution_count": 10,
     "metadata": {},
     "output_type": "execute_result"
    }
   ],
   "source": [
    "R3(1, 1, kiir=True)"
   ]
  },
  {
   "cell_type": "code",
   "execution_count": 11,
   "metadata": {},
   "outputs": [
    {
     "name": "stdout",
     "output_type": "stream",
     "text": [
      "[[  1   4  10  20  35  56  84 120]\n",
      " [  1   3   6  10  15  21  28  36]\n",
      " [  1   2   3   4   5   6   7   8]\n",
      " [  1   1   1   1   1   1   1   1]]\n"
     ]
    },
    {
     "data": {
      "text/plain": [
       "120"
      ]
     },
     "execution_count": 11,
     "metadata": {},
     "output_type": "execute_result"
    }
   ],
   "source": [
    "R3(7, 8, kiir=True)"
   ]
  },
  {
   "cell_type": "code",
   "execution_count": 12,
   "metadata": {},
   "outputs": [
    {
     "ename": "Exception",
     "evalue": "Paros sorszamu tablara nincs megoldas, hiszen csak kettesevel lehet felfele lepni!",
     "output_type": "error",
     "traceback": [
      "\u001b[1;31m---------------------------------------------------------------------------\u001b[0m",
      "\u001b[1;31mException\u001b[0m                                 Traceback (most recent call last)",
      "\u001b[1;32m<ipython-input-12-d5aeae731b96>\u001b[0m in \u001b[0;36m<module>\u001b[1;34m()\u001b[0m\n\u001b[1;32m----> 1\u001b[1;33m \u001b[0mR3\u001b[0m\u001b[1;33m(\u001b[0m\u001b[1;36m8\u001b[0m\u001b[1;33m,\u001b[0m \u001b[1;36m8\u001b[0m\u001b[1;33m)\u001b[0m\u001b[1;33m\u001b[0m\u001b[0m\n\u001b[0m",
      "\u001b[1;32m<ipython-input-9-d767b12da992>\u001b[0m in \u001b[0;36mR3\u001b[1;34m(k, n, kiir)\u001b[0m\n\u001b[0;32m      7\u001b[0m \u001b[1;32mdef\u001b[0m \u001b[0mR3\u001b[0m\u001b[1;33m(\u001b[0m\u001b[0mk\u001b[0m\u001b[1;33m,\u001b[0m \u001b[0mn\u001b[0m\u001b[1;33m,\u001b[0m \u001b[0mkiir\u001b[0m\u001b[1;33m=\u001b[0m\u001b[1;32mFalse\u001b[0m\u001b[1;33m)\u001b[0m\u001b[1;33m:\u001b[0m\u001b[1;33m\u001b[0m\u001b[0m\n\u001b[0;32m      8\u001b[0m     \u001b[1;32mif\u001b[0m \u001b[0mk\u001b[0m \u001b[1;33m%\u001b[0m \u001b[1;36m2\u001b[0m \u001b[1;33m==\u001b[0m \u001b[1;36m0\u001b[0m\u001b[1;33m:\u001b[0m\u001b[1;33m\u001b[0m\u001b[0m\n\u001b[1;32m----> 9\u001b[1;33m         \u001b[1;32mraise\u001b[0m \u001b[0mException\u001b[0m\u001b[1;33m(\u001b[0m\u001b[1;34m'Paros sorszamu tablara nincs megoldas, hiszen csak kettesevel lehet felfele lepni!'\u001b[0m\u001b[1;33m)\u001b[0m\u001b[1;33m\u001b[0m\u001b[0m\n\u001b[0m\u001b[0;32m     10\u001b[0m     \u001b[1;31m# csinalunk egy 2 dimenzios tombot, ehhez a numpy konyvtarat hasznaljuk\u001b[0m\u001b[1;33m\u001b[0m\u001b[1;33m\u001b[0m\u001b[0m\n\u001b[0;32m     11\u001b[0m     \u001b[1;31m# alapbol legyen minden 0, utana kitoltjuk az ertekeket\u001b[0m\u001b[1;33m\u001b[0m\u001b[1;33m\u001b[0m\u001b[0m\n",
      "\u001b[1;31mException\u001b[0m: Paros sorszamu tablara nincs megoldas, hiszen csak kettesevel lehet felfele lepni!"
     ]
    }
   ],
   "source": [
    "R3(8, 8)"
   ]
  },
  {
   "cell_type": "code",
   "execution_count": 13,
   "metadata": {},
   "outputs": [],
   "source": [
    "# elegansabb rekurziv megoldas, ahol a hatekonytalan ujraszamitasokat kikuszoboljuk a reszeredmenyek megjegyzesevel\n",
    "\n",
    "# rekurziv megjegyzos megoldas, R4:\n",
    "def R4(k, n):\n",
    "    if k % 2 == 0:\n",
    "        raise Exception('Paros sorszamu tablara nincs megoldas, hiszen csak kettesevel lehet felfele lepni!')\n",
    "    megjegyzo = {} # ide jegyezzuk meg amit mar kiszamoltunk egyszer\n",
    "    def belso(k, n):\n",
    "        if (k, n) in megjegyzo:\n",
    "            return megjegyzo[(k, n)]\n",
    "        if k == 1 and n == 1:\n",
    "            r = 1\n",
    "        elif k > 1 and n == 1:\n",
    "            r = belso(k-2, n)\n",
    "        elif k == 1 and n > 1:\n",
    "            r = belso(k, n-1)\n",
    "        else:\n",
    "            r = belso(k, n-1) + belso(k-2, n)\n",
    "        megjegyzo[(k, n)] = r\n",
    "        return r\n",
    "    return belso(k, n)"
   ]
  },
  {
   "cell_type": "code",
   "execution_count": 14,
   "metadata": {},
   "outputs": [
    {
     "data": {
      "text/plain": [
       "1"
      ]
     },
     "execution_count": 14,
     "metadata": {},
     "output_type": "execute_result"
    }
   ],
   "source": [
    "R4(1, 1)"
   ]
  },
  {
   "cell_type": "code",
   "execution_count": 15,
   "metadata": {},
   "outputs": [
    {
     "data": {
      "text/plain": [
       "120"
      ]
     },
     "execution_count": 15,
     "metadata": {},
     "output_type": "execute_result"
    }
   ],
   "source": [
    "R4(7, 8)"
   ]
  },
  {
   "cell_type": "code",
   "execution_count": 16,
   "metadata": {},
   "outputs": [
    {
     "ename": "Exception",
     "evalue": "Paros sorszamu tablara nincs megoldas, hiszen csak kettesevel lehet felfele lepni!",
     "output_type": "error",
     "traceback": [
      "\u001b[1;31m---------------------------------------------------------------------------\u001b[0m",
      "\u001b[1;31mException\u001b[0m                                 Traceback (most recent call last)",
      "\u001b[1;32m<ipython-input-16-7bbe24698e52>\u001b[0m in \u001b[0;36m<module>\u001b[1;34m()\u001b[0m\n\u001b[1;32m----> 1\u001b[1;33m \u001b[0mR4\u001b[0m\u001b[1;33m(\u001b[0m\u001b[1;36m8\u001b[0m\u001b[1;33m,\u001b[0m \u001b[1;36m8\u001b[0m\u001b[1;33m)\u001b[0m\u001b[1;33m\u001b[0m\u001b[0m\n\u001b[0m",
      "\u001b[1;32m<ipython-input-13-24bd0ffae6d2>\u001b[0m in \u001b[0;36mR4\u001b[1;34m(k, n)\u001b[0m\n\u001b[0;32m      4\u001b[0m \u001b[1;32mdef\u001b[0m \u001b[0mR4\u001b[0m\u001b[1;33m(\u001b[0m\u001b[0mk\u001b[0m\u001b[1;33m,\u001b[0m \u001b[0mn\u001b[0m\u001b[1;33m)\u001b[0m\u001b[1;33m:\u001b[0m\u001b[1;33m\u001b[0m\u001b[0m\n\u001b[0;32m      5\u001b[0m     \u001b[1;32mif\u001b[0m \u001b[0mk\u001b[0m \u001b[1;33m%\u001b[0m \u001b[1;36m2\u001b[0m \u001b[1;33m==\u001b[0m \u001b[1;36m0\u001b[0m\u001b[1;33m:\u001b[0m\u001b[1;33m\u001b[0m\u001b[0m\n\u001b[1;32m----> 6\u001b[1;33m         \u001b[1;32mraise\u001b[0m \u001b[0mException\u001b[0m\u001b[1;33m(\u001b[0m\u001b[1;34m'Paros sorszamu tablara nincs megoldas, hiszen csak kettesevel lehet felfele lepni!'\u001b[0m\u001b[1;33m)\u001b[0m\u001b[1;33m\u001b[0m\u001b[0m\n\u001b[0m\u001b[0;32m      7\u001b[0m     \u001b[0mmegjegyzo\u001b[0m \u001b[1;33m=\u001b[0m \u001b[1;33m{\u001b[0m\u001b[1;33m}\u001b[0m \u001b[1;31m# ide jegyezzuk meg amit mar kiszamoltunk egyszer\u001b[0m\u001b[1;33m\u001b[0m\u001b[0m\n\u001b[0;32m      8\u001b[0m     \u001b[1;32mdef\u001b[0m \u001b[0mbelso\u001b[0m\u001b[1;33m(\u001b[0m\u001b[0mk\u001b[0m\u001b[1;33m,\u001b[0m \u001b[0mn\u001b[0m\u001b[1;33m)\u001b[0m\u001b[1;33m:\u001b[0m\u001b[1;33m\u001b[0m\u001b[0m\n",
      "\u001b[1;31mException\u001b[0m: Paros sorszamu tablara nincs megoldas, hiszen csak kettesevel lehet felfele lepni!"
     ]
    }
   ],
   "source": [
    "R4(8, 8)"
   ]
  },
  {
   "cell_type": "code",
   "execution_count": 17,
   "metadata": {},
   "outputs": [
    {
     "name": "stdout",
     "output_type": "stream",
     "text": [
      "R1(15, 8) megoldas 1000-szer futas: 19.228 mp\n",
      "R2(15, 8) megoldas 1000-szer futas: 0.231 mp\n",
      "R3(15, 8) megoldas 1000-szer futas: 0.234 mp\n",
      "R4(15, 8) megoldas 1000-szer futas: 0.320 mp\n"
     ]
    }
   ],
   "source": [
    "import time\n",
    "\n",
    "def futtat(R, k, n):\n",
    "    start = time.time()\n",
    "    for i in range(10*1000):\n",
    "        R(k, n)\n",
    "    end = time.time()\n",
    "    print('%s(%d, %d) megoldas 1000-szer futas: %.3f mp' % (R.__name__, k, n, (end - start)))\n",
    "\n",
    "k = 15\n",
    "n = 8\n",
    "futtat(R1, k, n)\n",
    "futtat(R2, k, n)\n",
    "futtat(R3, k, n)\n",
    "futtat(R4, k, n)"
   ]
  },
  {
   "cell_type": "code",
   "execution_count": null,
   "metadata": {},
   "outputs": [],
   "source": [
    "# Erre a problemara, a dinamikus modszer (R2 es R3 megoldas) a jobb, mert sokkal gyorsabban lefut mint a rekurziv (R1).\n",
    "# A megjegyzos trukkel (R4) a rekurziv is tud gyors lenni, de azert annyira nem gyors mint a tablas dinamikus megoldasok,\n",
    "# es viszonylag nehezen olvashato a kod.\n",
    "# Milyen esetekben jobb a rekurziv: altalanossagban a tisztan rekurziv megoldasoknal futasi idot adunk tarhelyert cserebe\n",
    "# (hiszen a dinamikusnal el kell tarolni a tablat, a megjegyzosnel is), tehat akkor jobb a rekurziv, ha idonk van, de tarhelyunk\n",
    "# nincs; peldaul egy olyan problema, ahol mindent letarolni tul sok lenne, de nem baj ha orakig fut."
   ]
  },
  {
   "cell_type": "code",
   "execution_count": null,
   "metadata": {},
   "outputs": [],
   "source": []
  }
 ],
 "metadata": {
  "kernelspec": {
   "display_name": "Python 3",
   "language": "python",
   "name": "python3"
  },
  "language_info": {
   "codemirror_mode": {
    "name": "ipython",
    "version": 3
   },
   "file_extension": ".py",
   "mimetype": "text/x-python",
   "name": "python",
   "nbconvert_exporter": "python",
   "pygments_lexer": "ipython3",
   "version": "3.6.6"
  }
 },
 "nbformat": 4,
 "nbformat_minor": 2
}
