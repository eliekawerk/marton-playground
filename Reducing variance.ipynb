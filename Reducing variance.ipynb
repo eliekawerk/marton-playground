{
 "cells": [
  {
   "cell_type": "code",
   "execution_count": 81,
   "id": "741a2e3a",
   "metadata": {
    "ExecuteTime": {
     "end_time": "2021-09-14T13:43:34.183563Z",
     "start_time": "2021-09-14T13:43:34.178155Z"
    }
   },
   "outputs": [],
   "source": [
    "import scipy\n",
    "from math import sqrt\n",
    "from scipy import stats\n",
    "from numpy import cov, linspace\n",
    "from statistics import mean\n",
    "from numpy.random import normal, exponential\n",
    "import matplotlib.pyplot as plt\n",
    "from random import random\n",
    "%matplotlib inline"
   ]
  },
  {
   "cell_type": "code",
   "execution_count": 73,
   "id": "957cf542",
   "metadata": {
    "ExecuteTime": {
     "end_time": "2021-09-14T10:56:41.238016Z",
     "start_time": "2021-09-14T10:56:41.233350Z"
    }
   },
   "outputs": [
    {
     "data": {
      "text/html": [
       "<style>\n",
       ".output_wrapper .output {\n",
       "  overflow-y: visible;\n",
       "  height: fit-content;\n",
       "}\n",
       "</style>\n"
      ],
      "text/plain": [
       "<IPython.core.display.HTML object>"
      ]
     },
     "metadata": {},
     "output_type": "display_data"
    }
   ],
   "source": [
    "%%html\n",
    "<style>\n",
    ".output_wrapper .output {\n",
    "  overflow-y: visible;\n",
    "  height: fit-content;\n",
    "}\n",
    "</style>"
   ]
  },
  {
   "cell_type": "code",
   "execution_count": 10,
   "id": "66a863b8",
   "metadata": {
    "ExecuteTime": {
     "end_time": "2021-09-14T08:40:43.783834Z",
     "start_time": "2021-09-14T08:40:43.778921Z"
    }
   },
   "outputs": [],
   "source": [
    "def lift(A, B):\n",
    "    return mean(B) - mean(A)\n",
    "\n",
    "def p_value(A, B):\n",
    "    return stats.ttest_ind(A, B)[1]"
   ]
  },
  {
   "cell_type": "code",
   "execution_count": 79,
   "id": "817f84a8",
   "metadata": {
    "ExecuteTime": {
     "end_time": "2021-09-14T11:02:33.331772Z",
     "start_time": "2021-09-14T11:02:18.773642Z"
    }
   },
   "outputs": [
    {
     "name": "stdout",
     "output_type": "stream",
     "text": [
      "Simulating 1000 A/B tests, true treatment lift is 2...\n",
      "N samples  A/B testing, mean lift = 2.00, variance of lift = 0.18\n",
      "4N samples A/B testing, mean lift = 2.01, variance of lift = 0.05\n",
      "Raio of lift variance = 0.26 (expected = 0.25)\n"
     ]
    },
    {
     "data": {
      "image/png": "[encoded data removed]",
      "text/plain": [
       "<Figure size 1008x504 with 1 Axes>"
      ]
     },
     "metadata": {
      "needs_background": "light"
     },
     "output_type": "display_data"
    }
   ],
   "source": [
    "def get_AB_samples(mu, sigma, treatment_lift, N):\n",
    "    A = list(normal(loc=mu                 , scale=sigma, size=N))\n",
    "    B = list(normal(loc=mu + treatment_lift, scale=sigma, size=N))\n",
    "    return A, B\n",
    "\n",
    "N = 1000\n",
    "N_multiplier = 4\n",
    "mu = 100\n",
    "sigma = 10\n",
    "treatment_lift = 2\n",
    "num_simulations = 1000\n",
    "\n",
    "print('Simulating %s A/B tests, true treatment lift is %d...' % (num_simulations, treatment_lift))\n",
    "\n",
    "n1_lifts, n4_lifts = [], []\n",
    "for i in range(num_simulations):\n",
    "    print('%d/%d' % (i, num_simulations), end='\\r')\n",
    "    A, B = get_AB_samples(mu, sigma, treatment_lift, N)\n",
    "    n1_lifts.append(lift(A, B))\n",
    "    A, B = get_AB_samples(mu, sigma, treatment_lift, N_multiplier*N)\n",
    "    n4_lifts.append(lift(A, B))\n",
    "    \n",
    "print('N samples  A/B testing, mean lift = %.2f, variance of lift = %.2f' % (mean(n1_lifts), cov(n1_lifts)))\n",
    "print('4N samples A/B testing, mean lift = %.2f, variance of lift = %.2f' % (mean(n4_lifts), cov(n4_lifts)))\n",
    "print('Raio of lift variance = %.2f (expected = %.2f)' % (cov(n4_lifts)/cov(n1_lifts), 1/N_multiplier))\n",
    "\n",
    "bins = linspace(-2, 6, 100)\n",
    "plt.figure(figsize=(14, 7))\n",
    "plt.hist(n1_lifts, bins, alpha=0.5, label='N samples')\n",
    "plt.hist(n4_lifts, bins, alpha=0.5, label=f'{N_multiplier}N samples')\n",
    "plt.xlabel('lift')\n",
    "plt.ylabel('count')\n",
    "plt.legend(loc='upper right')\n",
    "plt.title('lift histogram')\n",
    "plt.show()"
   ]
  },
  {
   "cell_type": "code",
   "execution_count": 95,
   "id": "24bba923",
   "metadata": {
    "ExecuteTime": {
     "end_time": "2021-09-18T14:23:22.019310Z",
     "start_time": "2021-09-18T14:23:10.284438Z"
    }
   },
   "outputs": [
    {
     "name": "stdout",
     "output_type": "stream",
     "text": [
      "Simulating 1000 A/B tests, true treatment lift is 2...\n",
      "Even split   A/B testing, mean lift = 1.98, variance of lift = 0.10\n",
      "Uneven split A/B testing, mean lift = 1.98, variance of lift = 0.29\n",
      "Raio of lift variance = 0.36 (expected = 0.36)\n"
     ]
    },
    {
     "data": {
      "image/png": "[encoded data removed]",
      "text/plain": [
       "<Figure size 1008x504 with 1 Axes>"
      ]
     },
     "metadata": {
      "needs_background": "light"
     },
     "output_type": "display_data"
    }
   ],
   "source": [
    "def get_AB_samples(mu, sigma, treatment_lift, N_A, N_B):\n",
    "    A = list(normal(loc=mu                 , scale=sigma, size=N_A))\n",
    "    B = list(normal(loc=mu + treatment_lift, scale=sigma, size=N_B))\n",
    "    return A, B\n",
    "\n",
    "def expected_ratio(p, q):\n",
    "    top = 1/p + 1/(1-p)\n",
    "    bot = 1/q + 1/(1-q)\n",
    "    return top/bot\n",
    "\n",
    "N = 4000\n",
    "mu = 100\n",
    "sigma = 10\n",
    "treatment_lift = 2\n",
    "even_ratio = 0.5\n",
    "uneven_ratio = 0.9\n",
    "num_simulations = 1000\n",
    "\n",
    "print('Simulating %s A/B tests, true treatment lift is %d...' % (num_simulations, treatment_lift))\n",
    "\n",
    "even_lifts, uneven_lifts = [], []\n",
    "for i in range(num_simulations):\n",
    "    print('%d/%d' % (i, num_simulations), end='\\r')\n",
    "    A, B = get_AB_samples(mu, sigma, treatment_lift, int(N*even_ratio), int(N*(1-even_ratio)))\n",
    "    even_lifts.append(lift(A, B))\n",
    "    A, B = get_AB_samples(mu, sigma, treatment_lift, int(N*uneven_ratio), int(N*(1-uneven_ratio)))\n",
    "    uneven_lifts.append(lift(A, B))\n",
    "    \n",
    "print('Even split   A/B testing, mean lift = %.2f, variance of lift = %.2f' % (mean(even_lifts),   cov(even_lifts)))\n",
    "print('Uneven split A/B testing, mean lift = %.2f, variance of lift = %.2f' % (mean(uneven_lifts), cov(uneven_lifts)))\n",
    "print('Raio of lift variance = %.2f (expected = %.2f)' % ((cov(even_lifts)/cov(uneven_lifts)), expected_ratio(even_ratio, uneven_ratio)))\n",
    "\n",
    "bins = linspace(-2, 6, 100)\n",
    "plt.figure(figsize=(14, 7))\n",
    "plt.hist(even_lifts, bins, alpha=0.5, label='even split')\n",
    "plt.hist(uneven_lifts,    bins, alpha=0.5, label='uneven split')\n",
    "plt.xlabel('lift')\n",
    "plt.ylabel('count')\n",
    "plt.legend(loc='upper right')\n",
    "plt.title('lift histogram')\n",
    "plt.show()"
   ]
  },
  {
   "cell_type": "code",
   "execution_count": 91,
   "id": "a8df1b56",
   "metadata": {
    "ExecuteTime": {
     "end_time": "2021-09-18T13:29:32.520251Z",
     "start_time": "2021-09-18T13:28:37.440272Z"
    }
   },
   "outputs": [
    {
     "name": "stdout",
     "output_type": "stream",
     "text": [
      "Simulating 1000 A/B tests, true treatment lift is 2...\n",
      "999/1000\r"
     ]
    },
    {
     "data": {
      "image/png": "[encoded data removed]",
      "text/plain": [
       "<Figure size 1008x504 with 1 Axes>"
      ]
     },
     "metadata": {
      "needs_background": "light"
     },
     "output_type": "display_data"
    }
   ],
   "source": [
    "def get_AB_samples(scale, treatment_lift, N):\n",
    "    A = list(exponential(scale=scale                 , size=N))\n",
    "    B = list(exponential(scale=scale + treatment_lift, size=N))\n",
    "    # add outliers\n",
    "    for i in range(int(N*0.001)):\n",
    "        A.append(random()*scale*100)\n",
    "        B.append(random()*scale*100 + treatment_lift)\n",
    "    return A, B\n",
    "\n",
    "N = 10*1000\n",
    "scale = 100\n",
    "treatment_lift = 2\n",
    "num_simulations = 1000\n",
    "\n",
    "print('Simulating %s A/B tests, true treatment lift is %d...' % (num_simulations, treatment_lift))\n",
    "\n",
    "orig_lifts, trunc_lifts = [], []\n",
    "for i in range(num_simulations):\n",
    "    print('%d/%d' % (i, num_simulations), end='\\r')\n",
    "    A, B = get_AB_samples(scale, treatment_lift, N)\n",
    "    orig_lifts.append(lift(A, B))\n",
    "    A, B = [x for x in A if x < 5*scale], [x for x in B if x < 5*scale]\n",
    "    trunc_lifts.append(lift(A, B))\n",
    "\n",
    "bins = linspace(-8, 12, 99)\n",
    "plt.figure(figsize=(14, 7))\n",
    "plt.hist(orig_lifts, bins, alpha=0.5, label='original')\n",
    "plt.hist(trunc_lifts, bins, alpha=0.5, label='truncated')\n",
    "plt.xlabel('lift')\n",
    "plt.ylabel('count')\n",
    "plt.legend(loc='upper right')\n",
    "plt.title('lift histogram')\n",
    "plt.show()"
   ]
  },
  {
   "cell_type": "code",
   "execution_count": 105,
   "id": "253dfc93",
   "metadata": {
    "ExecuteTime": {
     "end_time": "2021-09-18T17:01:51.164994Z",
     "start_time": "2021-09-18T17:01:35.556081Z"
    }
   },
   "outputs": [
    {
     "name": "stdout",
     "output_type": "stream",
     "text": [
      "Simulating 1000 A/B tests, true treatment lift is 2...\n",
      "999/1000\r"
     ]
    },
    {
     "data": {
      "image/png": "[encoded data removed]",
      "text/plain": [
       "<Figure size 1008x504 with 1 Axes>"
      ]
     },
     "metadata": {
      "needs_background": "light"
     },
     "output_type": "display_data"
    },
    {
     "data": {
      "image/png": "[encoded data removed]",
      "text/plain": [
       "<Figure size 1008x504 with 1 Axes>"
      ]
     },
     "metadata": {
      "needs_background": "light"
     },
     "output_type": "display_data"
    }
   ],
   "source": [
    "def get_AB_samples(p, p_lift, mu, sigma, treatment_lift, N_A, N_B):\n",
    "    A = list(normal(loc=mu                 , scale=sigma, size=N_A))\n",
    "    B = list(normal(loc=mu + treatment_lift, scale=sigma, size=N_B))\n",
    "    A = [x if random() < p        else 0 for x in A]\n",
    "    B = [x if random() < p+p_lift else 0 for x in B]\n",
    "    return A, B\n",
    "\n",
    "N = 10*1000\n",
    "p = 0.1\n",
    "p_lift = 0.01\n",
    "mu = 100\n",
    "sigma = 25\n",
    "treatment_lift = 2\n",
    "num_simulations = 1000\n",
    "\n",
    "print('Simulating %s A/B tests, true treatment lift is %d...' % (num_simulations, treatment_lift))\n",
    "\n",
    "cont_lifts, cond_lifts, conv_lifts = [], [], []\n",
    "for i in range(num_simulations):\n",
    "    print('%d/%d' % (i, num_simulations), end='\\r')\n",
    "    A, B = get_AB_samples(p, p_lift, mu, sigma, treatment_lift, int(N/2), int(N/2))\n",
    "    cont_lifts.append(lift(A, B)/p)\n",
    "    A_, B_ = [x for x in A if x > 0], [x for x in B if x > 0]\n",
    "    cond_lifts.append(lift(A_, B_))\n",
    "    A_, B_ = [1 if x > 0 else 0 for x in A], [1 if x > 0 else 0 for x in B]\n",
    "    conv_lifts.append(lift(A_, B_))\n",
    "\n",
    "bins = linspace(-8, 12, 100)\n",
    "plt.figure(figsize=(14, 7))\n",
    "plt.hist(cont_lifts, bins, alpha=0.5, label='overall')\n",
    "plt.hist(cond_lifts, bins, alpha=0.5, label='conditional')\n",
    "plt.xlabel('lift')\n",
    "plt.ylabel('count')\n",
    "plt.legend(loc='upper right')\n",
    "plt.title('lift histogram')\n",
    "plt.show()\n",
    "\n",
    "bins = linspace(-0.1, 0.1, 100)\n",
    "plt.figure(figsize=(14, 7))\n",
    "plt.hist(conv_lifts, bins, alpha=0.5, label='conversion')\n",
    "plt.xlabel('lift')\n",
    "plt.ylabel('count')\n",
    "plt.legend(loc='upper right')\n",
    "plt.title('lift histogram')\n",
    "plt.show()"
   ]
  },
  {
   "cell_type": "code",
   "execution_count": 58,
   "id": "5dc229e2",
   "metadata": {
    "ExecuteTime": {
     "end_time": "2021-09-14T10:18:57.763690Z",
     "start_time": "2021-09-14T10:18:11.020021Z"
    }
   },
   "outputs": [
    {
     "name": "stdout",
     "output_type": "stream",
     "text": [
      "Simulating 1000 A/B tests, true treatment lift is 2...\n",
      "Stratified sampling   A/B testing, mean lift = 2.01, variance of lift = 0.05\n",
      "Random sampling       A/B testing, mean lift = 1.97, variance of lift = 1.28\n",
      "Raio of lift variance = 0.04\n"
     ]
    },
    {
     "data": {
      "image/png": "[encoded data removed]",
      "text/plain": [
       "<Figure size 1008x504 with 1 Axes>"
      ]
     },
     "metadata": {
      "needs_background": "light"
     },
     "output_type": "display_data"
    }
   ],
   "source": [
    "def get_AB_samples_str(\n",
    "    pop1_mu, pop1_sigma,\n",
    "    pop2_mu, pop2_sigma,\n",
    "    pop1_ratio,\n",
    "    treatment_lift,\n",
    "    N,\n",
    "):\n",
    "    A =  list(normal(loc=pop1_mu, scale=pop1_sigma, size=int(N*pop1_ratio)))\n",
    "    A += list(normal(loc=pop2_mu, scale=pop2_sigma, size=int(N*(1-pop1_ratio))))\n",
    "    B =  list(normal(loc=pop1_mu + treatment_lift, scale=pop1_sigma, size=int(N*pop1_ratio)))\n",
    "    B += list(normal(loc=pop2_mu + treatment_lift, scale=pop2_sigma, size=int(N*(1-pop1_ratio))))\n",
    "    return A, B\n",
    "#     A = []\n",
    "#     for i in range(N):\n",
    "#         if i < int(pop1_ratio*N):\n",
    "#             A.append(normal(loc=pop1_mu, scale=pop1_sigma))\n",
    "#         else:\n",
    "#             A.append(normal(loc=pop2_mu, scale=pop2_sigma))\n",
    "#     B = []\n",
    "#     for i in range(N):\n",
    "#         if i < int(pop1_ratio*N):\n",
    "#             B.append(normal(loc=pop1_mu + treatment_lift, scale=pop1_sigma))\n",
    "#         else:\n",
    "#             B.append(normal(loc=pop2_mu + treatment_lift, scale=pop2_sigma))\n",
    "#     return A, B\n",
    "\n",
    "def get_AB_samples_rnd(\n",
    "    pop1_mu, pop1_sigma,\n",
    "    pop2_mu, pop2_sigma,\n",
    "    pop1_ratio,\n",
    "    treatment_lift,\n",
    "    N,\n",
    "):\n",
    "    A = []\n",
    "    for _ in range(N):\n",
    "        if random() < pop1_ratio:\n",
    "            A.append(normal(loc=pop1_mu, scale=pop1_sigma))\n",
    "        else:\n",
    "            A.append(normal(loc=pop2_mu, scale=pop2_sigma))\n",
    "    B = []\n",
    "    for _ in range(N):\n",
    "        if random() < pop1_ratio:\n",
    "            B.append(normal(loc=pop1_mu + treatment_lift, scale=pop1_sigma))\n",
    "        else:\n",
    "            B.append(normal(loc=pop2_mu + treatment_lift, scale=pop2_sigma))\n",
    "    return A, B\n",
    "\n",
    "\n",
    "N = 4000\n",
    "pop1_ratio = 0.5\n",
    "pop1_mu = 100\n",
    "pop2_mu = 200\n",
    "pop1_sigma = pop2_sigma = 10\n",
    "treatment_lift = 2\n",
    "num_simulations = 1000\n",
    "\n",
    "print('Simulating %s A/B tests, true treatment lift is %d...' % (num_simulations, treatment_lift))\n",
    "\n",
    "str_lifts, rnd_lifts = [], []\n",
    "for i in range(num_simulations):\n",
    "    print('%d/%d' % (i, num_simulations), end='\\r')\n",
    "    A, B = get_AB_samples_str(pop1_mu, pop1_sigma, pop2_mu, pop2_sigma, pop1_ratio, treatment_lift, N)\n",
    "    str_lifts.append(lift(A, B))\n",
    "    A, B = get_AB_samples_rnd(pop1_mu, pop1_sigma, pop2_mu, pop2_sigma, pop1_ratio, treatment_lift, N)\n",
    "    rnd_lifts.append(lift(A, B))\n",
    "    \n",
    "print('Stratified sampling   A/B testing, mean lift = %.2f, variance of lift = %.2f' % (mean(str_lifts), cov(str_lifts)))\n",
    "print('Random sampling       A/B testing, mean lift = %.2f, variance of lift = %.2f' % (mean(rnd_lifts), cov(rnd_lifts)))\n",
    "print('Raio of lift variance = %.2f' % (cov(str_lifts)/cov(rnd_lifts)))\n",
    "\n",
    "bins = linspace(-2, 6, 100)\n",
    "plt.figure(figsize=(14, 7))\n",
    "plt.hist(str_lifts, bins, alpha=0.5, label='stratified sampling')\n",
    "plt.hist(rnd_lifts, bins, alpha=0.5, label='random sampling')\n",
    "plt.xlabel('lift')\n",
    "plt.ylabel('count')\n",
    "plt.legend(loc='upper right')\n",
    "plt.title('lift histogram')\n",
    "plt.show()"
   ]
  },
  {
   "cell_type": "code",
   "execution_count": null,
   "id": "ea26a0ee",
   "metadata": {},
   "outputs": [],
   "source": []
  }
 ],
 "metadata": {
  "kernelspec": {
   "display_name": "Python 3",
   "language": "python",
   "name": "python3"
  },
  "language_info": {
   "codemirror_mode": {
    "name": "ipython",
    "version": 3
   },
   "file_extension": ".py",
   "mimetype": "text/x-python",
   "name": "python",
   "nbconvert_exporter": "python",
   "pygments_lexer": "ipython3",
   "version": "3.7.11"
  },
  "varInspector": {
   "cols": {
    "lenName": 16,
    "lenType": 16,
    "lenVar": 40
   },
   "kernels_config": {
    "python": {
     "delete_cmd_postfix": "",
     "delete_cmd_prefix": "del ",
     "library": "var_list.py",
     "varRefreshCmd": "print(var_dic_list())"
    },
    "r": {
     "delete_cmd_postfix": ") ",
     "delete_cmd_prefix": "rm(",
     "library": "var_list.r",
     "varRefreshCmd": "cat(var_dic_list()) "
    }
   },
   "types_to_exclude": [
    "module",
    "function",
    "builtin_function_or_method",
    "instance",
    "_Feature"
   ],
   "window_display": false
  }
 },
 "nbformat": 4,
 "nbformat_minor": 5
}
